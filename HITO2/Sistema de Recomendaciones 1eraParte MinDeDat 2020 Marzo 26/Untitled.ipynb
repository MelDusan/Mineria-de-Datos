{
 "cells": [
  {
   "cell_type": "code",
   "execution_count": 2,
   "metadata": {},
   "outputs": [
    {
     "name": "stdout",
     "output_type": "stream",
     "text": [
      "   userId     username                  name\n",
      "0       1     iris9112  Isabel Ruiz Buriticá\n",
      "1       2  dianaclarke                 Diana\n",
      "2       3  nateprewitt          Nate Prewitt\n",
      "3       4       oldani       Ordanis Sanchez\n",
      "4       5   waflessnet            waflessnet\n",
      "   repoId                              title  \\\n",
      "0       1                airbnb / javascript   \n",
      "1       2  kamranahmedse / developer-roadmap   \n",
      "2       3                 microsoft / vscode   \n",
      "3       4                   torvalds / linux   \n",
      "4       5              ytdl-org / youtube-dl   \n",
      "\n",
      "                                          categories    stars  \n",
      "0                                          completar      NaN  \n",
      "1        Roadmap to becoming a web developer in 2019  85800.0  \n",
      "2                                 Visual Studio Code  80855.0  \n",
      "3                           Linux kernel source tree  78761.0  \n",
      "4  Command-line program to download videos from Y...  53909.0  \n",
      "   userId  repoId  rating\n",
      "0       1       1       2\n",
      "1       1       2       3\n",
      "2       1       3       4\n",
      "3       1       4       5\n",
      "4       1       5       3\n",
      "30 users\n",
      "167 items\n",
      "Sparsity: 6.43%\n"
     ]
    },
    {
     "data": {
      "image/png": "[encoded data removed]",
      "text/plain": [
       "<Figure size 432x288 with 1 Axes>"
      ]
     },
     "metadata": {
      "needs_background": "light"
     },
     "output_type": "display_data"
    }
   ],
   "source": [
    "# -*- coding: utf-8 -*-\n",
    "\"\"\"\n",
    "Created on Thu Mar 26 14:32:36 2020\n",
    "\n",
    "@author: meldu\n",
    "\"\"\"\n",
    "\n",
    "import pandas as pd\n",
    "import numpy as np\n",
    "from sklearn.metrics import mean_squared_error\n",
    "from sklearn.model_selection import train_test_split\n",
    "from sklearn.neighbors import NearestNeighbors\n",
    "import matplotlib.pyplot as plt\n",
    "import sklearn\n",
    "\n",
    "df_users = pd.read_csv(\"users.csv\")\n",
    "df_repos = pd.read_csv(\"repos.csv\")\n",
    "df_ratings = pd.read_csv(\"ratings.csv\")\n",
    "print(df_users.head())\n",
    "print(df_repos.head())\n",
    "print(df_ratings.head())\n",
    "\n",
    "n_users = df_ratings.userId.unique().shape[0]\n",
    "n_items = df_ratings.repoId.unique().shape[0]\n",
    "print (str(n_users) + ' users')\n",
    "print (str(n_items) + ' items')\n",
    "\n",
    "plt.hist(df_ratings.rating,bins=8)\n",
    "\n",
    "df_ratings.groupby([\"rating\"])[\"userId\"].count()\n",
    "\n",
    "plt.hist(df_ratings.groupby([\"repoId\"])[\"repoId\"].count(),bins=8)\n",
    "\n",
    "df_matrix = pd.pivot_table(df_ratings, values='rating', index='userId', columns='repoId').fillna(0)\n",
    "df_matrix\n",
    "\n",
    "ratings = df_matrix.values\n",
    "sparsity = float(len(ratings.nonzero()[0]))\n",
    "sparsity /= (ratings.shape[0] * ratings.shape[1])\n",
    "sparsity *= 100\n",
    "print('Sparsity: {:4.2f}%'.format(sparsity))"
   ]
  },
  {
   "cell_type": "code",
   "execution_count": null,
   "metadata": {},
   "outputs": [],
   "source": []
  }
 ],
 "metadata": {
  "kernelspec": {
   "display_name": "Python 3",
   "language": "python",
   "name": "python3"
  },
  "language_info": {
   "codemirror_mode": {
    "name": "ipython",
    "version": 3
   },
   "file_extension": ".py",
   "mimetype": "text/x-python",
   "name": "python",
   "nbconvert_exporter": "python",
   "pygments_lexer": "ipython3",
   "version": "3.7.4"
  }
 },
 "nbformat": 4,
 "nbformat_minor": 2
}
